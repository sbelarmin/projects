{
  "nbformat": 4,
  "nbformat_minor": 0,
  "metadata": {
    "colab": {
      "provenance": [],
      "machine_shape": "hm"
    },
    "kernelspec": {
      "name": "python3",
      "display_name": "Python 3"
    },
    "language_info": {
      "name": "python"
    }
  },
  "cells": [
    {
      "cell_type": "markdown",
      "source": [
        "##1. Setup (mount drive, install libraries, import packages, read_csv)"
      ],
      "metadata": {
        "id": "gTElc7Ni-h-A"
      }
    },
    {
      "cell_type": "code",
      "source": [
        "#mount google drive\n",
        "from google.colab import drive\n",
        "drive.mount('/content/drive')"
      ],
      "metadata": {
        "colab": {
          "base_uri": "https://localhost:8080/"
        },
        "id": "V91s8hT1KsCI",
        "outputId": "47f07d19-8c37-4e08-c770-8ada8e762fc5"
      },
      "execution_count": 1,
      "outputs": [
        {
          "output_type": "stream",
          "name": "stdout",
          "text": [
            "Mounted at /content/drive\n"
          ]
        }
      ]
    },
    {
      "cell_type": "code",
      "execution_count": 2,
      "metadata": {
        "id": "ql2Izp8uJ-BH"
      },
      "outputs": [],
      "source": [
        "%%capture\n",
        "!pip install pandas numpy matplotlib scikit-learn xgboost shap joblib\n",
        "!pip install catboost lightgbm\n",
        "!pip install dask[dataframe]"
      ]
    },
    {
      "cell_type": "code",
      "source": [
        "\n",
        "\n",
        "#packages for data handling\n",
        "import pandas as pd\n",
        "import numpy as np\n",
        "\n",
        "#packages for data visualization\n",
        "import matplotlib.pyplot as plt\n",
        "\n",
        "#packages for preprocessing\n",
        "from sklearn.preprocessing import StandardScaler, PolynomialFeatures\n",
        "from sklearn.model_selection import train_test_split\n",
        "from sklearn.feature_selection import SelectFromModel\n",
        "\n",
        "#packages for machine learning models\n",
        "from sklearn.ensemble import RandomForestClassifier, VotingClassifier, StackingClassifier\n",
        "from sklearn.linear_model import LogisticRegression\n",
        "from xgboost import XGBClassifier\n",
        "from sklearn.tree import DecisionTreeClassifier\n",
        "from sklearn.neighbors import KNeighborsClassifier\n",
        "from sklearn.svm import SVC\n",
        "from catboost import CatBoostClassifier\n",
        "from lightgbm import LGBMClassifier\n",
        "\n",
        "#package for evaluation\n",
        "from sklearn.metrics import accuracy_score, confusion_matrix, classification_report, roc_curve, roc_auc_score\n",
        "from sklearn.model_selection import cross_val_score, RandomizedSearchCV\n",
        "\n",
        "#package for interpretability\n",
        "import shap\n",
        "\n",
        "#package for saving/loading\n",
        "import joblib\n"
      ],
      "metadata": {
        "id": "vEU0zB1qKrlF"
      },
      "execution_count": 3,
      "outputs": []
    },
    {
      "source": [
        "#defining column types to detect/prevent any rows with column misalignment\n",
        "col_types = {'id': int,'Name': str,'Gender':str, 'Age': float, #Changed Age to float\n",
        "             'City':str, 'Working Professional or Student': str,\n",
        "             'Profession': str, 'Academic Pressure': float, 'Work Pressure': float, 'CGPA': float, 'Study Satisfaction': float,\n",
        "             'Job Satisfaction': float, 'Sleep Duration': str, 'Dietary Habits': str, 'Degree': str, 'Have you ever had suicidal thoughts ?': str,\n",
        "             'Work/Study Hours': float, 'Financial Stress': float, 'Depression': int}\n",
        "\n",
        "#read in files from google drive\n",
        "df_train = pd.read_csv('/content/drive/MyDrive/projects_jff/Forecasts/Kaggle_Depression/train.csv', dtype=col_types)\n",
        "df_test = pd.read_csv('/content/drive/MyDrive/projects_jff/Forecasts/Kaggle_Depression/test.csv', dtype=col_types)"
      ],
      "cell_type": "code",
      "metadata": {
        "id": "ZUCqQPDDi93F"
      },
      "execution_count": 4,
      "outputs": []
    },
    {
      "cell_type": "code",
      "source": [
        "pd.set_option('display.max_columns', None)  # Display all columns\n",
        "df_test.head()\n",
        "df_train.info()"
      ],
      "metadata": {
        "colab": {
          "base_uri": "https://localhost:8080/"
        },
        "id": "uJ5RIMSpM8fg",
        "outputId": "428a663a-dd8f-46aa-a2c4-82ee7db8e003"
      },
      "execution_count": 5,
      "outputs": [
        {
          "output_type": "stream",
          "name": "stdout",
          "text": [
            "<class 'pandas.core.frame.DataFrame'>\n",
            "RangeIndex: 140700 entries, 0 to 140699\n",
            "Data columns (total 20 columns):\n",
            " #   Column                                 Non-Null Count   Dtype  \n",
            "---  ------                                 --------------   -----  \n",
            " 0   id                                     140700 non-null  int64  \n",
            " 1   Name                                   140700 non-null  object \n",
            " 2   Gender                                 140700 non-null  object \n",
            " 3   Age                                    140700 non-null  float64\n",
            " 4   City                                   140700 non-null  object \n",
            " 5   Working Professional or Student        140700 non-null  object \n",
            " 6   Profession                             104070 non-null  object \n",
            " 7   Academic Pressure                      27897 non-null   float64\n",
            " 8   Work Pressure                          112782 non-null  float64\n",
            " 9   CGPA                                   27898 non-null   float64\n",
            " 10  Study Satisfaction                     27897 non-null   float64\n",
            " 11  Job Satisfaction                       112790 non-null  float64\n",
            " 12  Sleep Duration                         140700 non-null  object \n",
            " 13  Dietary Habits                         140696 non-null  object \n",
            " 14  Degree                                 140698 non-null  object \n",
            " 15  Have you ever had suicidal thoughts ?  140700 non-null  object \n",
            " 16  Work/Study Hours                       140700 non-null  float64\n",
            " 17  Financial Stress                       140696 non-null  float64\n",
            " 18  Family History of Mental Illness       140700 non-null  object \n",
            " 19  Depression                             140700 non-null  int64  \n",
            "dtypes: float64(8), int64(2), object(10)\n",
            "memory usage: 21.5+ MB\n"
          ]
        }
      ]
    },
    {
      "cell_type": "markdown",
      "source": [
        "##2. Data Preprocessing"
      ],
      "metadata": {
        "id": "gCR6CBaCP7Yb"
      }
    },
    {
      "cell_type": "code",
      "source": [],
      "metadata": {
        "id": "JwDASm5c1edv"
      },
      "execution_count": null,
      "outputs": []
    },
    {
      "cell_type": "code",
      "source": [
        "# # Step 1: Get value counts\n",
        "# profession_train_counts = df_train['Profession'].value_counts()\n",
        "# # profession_test_counts = df_test_filtered['Profession'].value_counts()\n",
        "\n",
        "# # Step 2: Filter degrees with counts >= 10\n",
        "# valid_train_profession = profession_train_counts[profession_train_counts >= 10].index.tolist()\n",
        "# # valid_test_profession = profession_test_counts[profession_test_counts >= 10].index.tolist()\n",
        "\n",
        "# # Step 3: Filter the main dataset to keep only valid degrees\n",
        "# df_train_filtered = df_train[df_train['Profession'].isin(valid_train_profession)]\n",
        "# # df_test_filtered = df_test_filtered[df_test_filtered['Profession'].isin(valid_test_profession)]"
      ],
      "metadata": {
        "id": "rBY3oEhb1e2q"
      },
      "execution_count": null,
      "outputs": []
    },
    {
      "cell_type": "code",
      "source": [
        "# Review missing data and decide to keep NaN or 0\n",
        "# Most advanced models such as XGBoost, LightGBM, or CatBoost can manage NaN values\n",
        "# Traditional or classical models such as Linear Regression, Logical Regression, or RandomForest cannot manage NaN\n",
        "\n",
        "# We will build two datasets for both types of models or add new columns\n",
        "\n",
        "# Features of interest\n",
        "# Profession, Academic Pressure, Work Pressure, CGPA, Study Satisfaction, Job Satisfaction\n",
        "# Dietary Habits, Degree, Financial Stress are a few rows/examples short of 140700 ~ we will fill missing values first\n",
        "\n",
        "# Profession is the only categorical feature and will be encoded in a separate column for classical models to process\n",
        "# All other features of interest will be filled with 0 ~ since these features are divided by working profession and student\n",
        "# the models will recognize a 0 value will be associated with the appropriate class (professional vs. student)\n",
        "\n"
      ],
      "metadata": {
        "id": "FHyjMHD_e0b9"
      },
      "execution_count": null,
      "outputs": []
    },
    {
      "cell_type": "markdown",
      "source": [
        "###2.1 Managing missing values"
      ],
      "metadata": {
        "id": "dVLW92QM-xYf"
      }
    },
    {
      "cell_type": "code",
      "source": [
        "#create a copy of the original df_train to avoid warnings and provide clarity\n",
        "df_train_filtered_copy = df_train.copy()\n",
        "df_test_filtered_copy = df_test.copy()"
      ],
      "metadata": {
        "id": "Jn9HZlE22sPr"
      },
      "execution_count": 6,
      "outputs": []
    },
    {
      "cell_type": "code",
      "source": [
        "import pandas as pd\n",
        "from sklearn.preprocessing import LabelEncoder\n",
        "\n",
        "def encode_categorical_features(train_df, test_df, features):\n",
        "    \"\"\"\n",
        "    Encodes categorical features by:\n",
        "    1. Handling NaN values (creates a binary column).\n",
        "    2. Filling NaN values with 'unknown'.\n",
        "    3. Label encoding (assigns unique integers).\n",
        "    4. Frequency encoding.\n",
        "\n",
        "    Parameters:\n",
        "        train_df (pd.DataFrame): Training dataset.\n",
        "        test_df (pd.DataFrame): Test dataset.\n",
        "        features (list): List of categorical features to encode.\n",
        "\n",
        "    Returns:\n",
        "        train_df (pd.DataFrame): Updated training dataset.\n",
        "        test_df (pd.DataFrame): Updated test dataset.\n",
        "    \"\"\"\n",
        "    for feature in features:\n",
        "        # Step 1: Create binary column for NaN values\n",
        "        train_df[f\"{feature}_nan\"] = train_df[feature].isna().astype(int)\n",
        "        test_df[f\"{feature}_nan\"] = test_df[feature].isna().astype(int)\n",
        "\n",
        "        # Step 2: Replace NaN values with 'unknown'\n",
        "        train_df[feature] = train_df[feature].fillna('unknown')\n",
        "        test_df[feature] = test_df[feature].fillna('unknown')\n",
        "\n",
        "        # Step 3: Label Encoding\n",
        "        all_unique_values = pd.concat([train_df[feature], test_df[feature]]).unique()\n",
        "        le = LabelEncoder()\n",
        "        le.fit(all_unique_values)\n",
        "\n",
        "        train_df[f\"{feature}_encoded\"] = le.transform(train_df[feature])\n",
        "        test_df[f\"{feature}_encoded\"] = le.transform(test_df[feature])\n",
        "\n",
        "        # Step 4: Frequency Encoding\n",
        "        freq_counts = train_df[feature].value_counts(normalize=True)\n",
        "        train_df[f\"{feature}_frequency\"] = train_df[feature].map(freq_counts)\n",
        "        test_df[f\"{feature}_frequency\"] = test_df[feature].map(freq_counts)\n",
        "\n",
        "    return train_df, test_df"
      ],
      "metadata": {
        "id": "Kuws0BR2F5uy"
      },
      "execution_count": 7,
      "outputs": []
    },
    {
      "cell_type": "code",
      "source": [
        "df_train_filtered_copy.info()"
      ],
      "metadata": {
        "colab": {
          "base_uri": "https://localhost:8080/"
        },
        "id": "ncNb5dg9G5ZK",
        "outputId": "956c8209-aee7-4fba-ed20-68bdde10575d"
      },
      "execution_count": 8,
      "outputs": [
        {
          "output_type": "stream",
          "name": "stdout",
          "text": [
            "<class 'pandas.core.frame.DataFrame'>\n",
            "RangeIndex: 140700 entries, 0 to 140699\n",
            "Data columns (total 20 columns):\n",
            " #   Column                                 Non-Null Count   Dtype  \n",
            "---  ------                                 --------------   -----  \n",
            " 0   id                                     140700 non-null  int64  \n",
            " 1   Name                                   140700 non-null  object \n",
            " 2   Gender                                 140700 non-null  object \n",
            " 3   Age                                    140700 non-null  float64\n",
            " 4   City                                   140700 non-null  object \n",
            " 5   Working Professional or Student        140700 non-null  object \n",
            " 6   Profession                             104070 non-null  object \n",
            " 7   Academic Pressure                      27897 non-null   float64\n",
            " 8   Work Pressure                          112782 non-null  float64\n",
            " 9   CGPA                                   27898 non-null   float64\n",
            " 10  Study Satisfaction                     27897 non-null   float64\n",
            " 11  Job Satisfaction                       112790 non-null  float64\n",
            " 12  Sleep Duration                         140700 non-null  object \n",
            " 13  Dietary Habits                         140696 non-null  object \n",
            " 14  Degree                                 140698 non-null  object \n",
            " 15  Have you ever had suicidal thoughts ?  140700 non-null  object \n",
            " 16  Work/Study Hours                       140700 non-null  float64\n",
            " 17  Financial Stress                       140696 non-null  float64\n",
            " 18  Family History of Mental Illness       140700 non-null  object \n",
            " 19  Depression                             140700 non-null  int64  \n",
            "dtypes: float64(8), int64(2), object(10)\n",
            "memory usage: 21.5+ MB\n"
          ]
        }
      ]
    },
    {
      "source": [
        "import pandas as pd\n",
        "from sklearn.preprocessing import LabelEncoder\n",
        "\n",
        "def encode_categorical_features(train_df, test_df, features):\n",
        "    \"\"\"\n",
        "    Encodes categorical features by:\n",
        "    1. Handling NaN values (creates a binary column).\n",
        "    2. Filling NaN values with 'unknown'.\n",
        "    3. Label encoding (assigns unique integers).\n",
        "    4. Frequency encoding.\n",
        "\n",
        "    Parameters:\n",
        "        train_df (pd.DataFrame): Training dataset.\n",
        "        test_df (pd.DataFrame): Test dataset.\n",
        "        features (list): List of categorical features to encode.\n",
        "\n",
        "    Returns:\n",
        "        train_df (pd.DataFrame): Updated training dataset.\n",
        "        test_df (pd.DataFrame): Updated test dataset.\n",
        "    \"\"\"\n",
        "    for feature in features:\n",
        "        # Check if the feature exists in both dataframes\n",
        "        if feature in train_df.columns and feature in test_df.columns:\n",
        "            # Step 1: Create binary column for NaN values\n",
        "            train_df[f\"{feature}_nan\"] = train_df[feature].isna().astype(int)\n",
        "            test_df[f\"{feature}_nan\"] = test_df[feature].isna().astype(int)\n",
        "\n",
        "            # Step 2: Replace NaN values with 'unknown'\n",
        "            train_df[feature] = train_df[feature].fillna('unknown')\n",
        "            test_df[feature] = test_df[feature].fillna('unknown')\n",
        "\n",
        "            # Step 3: Label Encoding\n",
        "            all_unique_values = pd.concat([train_df[feature], test_df[feature]]).unique()\n",
        "            le = LabelEncoder()\n",
        "            le.fit(all_unique_values)\n",
        "\n",
        "            train_df[f\"{feature}_encoded\"] = le.transform(train_df[feature])\n",
        "            test_df[f\"{feature}_encoded\"] = le.transform(test_df[feature])\n",
        "\n",
        "            # Step 4: Frequency Encoding\n",
        "            freq_counts = train_df[feature].value_counts(normalize=True)\n",
        "            train_df[f\"{feature}_frequency\"] = train_df[feature].map(freq_counts)\n",
        "            test_df[f\"{feature}_frequency\"] = test_df[feature].map(freq_counts)\n",
        "\n",
        "        elif feature in train_df.columns and feature not in test_df.columns:\n",
        "            print(f\"Feature '{feature}' is only present in the training dataset and will be skipped for the test dataset.\")\n",
        "            # Handle the feature only for the training dataset if needed\n",
        "            # Step 1: Create binary column for NaN values\n",
        "            train_df[f\"{feature}_nan\"] = train_df[feature].isna().astype(int)\n",
        "\n",
        "            # Step 2: Replace NaN values with 'unknown'\n",
        "            train_df[feature] = train_df[feature].fillna('unknown')\n",
        "\n",
        "            # Step 3: Label Encoding\n",
        "            all_unique_values = train_df[feature].unique()\n",
        "            le = LabelEncoder()\n",
        "            le.fit(all_unique_values)\n",
        "\n",
        "            train_df[f\"{feature}_encoded\"] = le.transform(train_df[feature])\n",
        "\n",
        "            # Step 4: Frequency Encoding\n",
        "            freq_counts = train_df[feature].value_counts(normalize=True)\n",
        "            train_df[f\"{feature}_frequency\"] = train_df[feature].map(freq_counts)\n",
        "\n",
        "    return train_df, test_df"
      ],
      "cell_type": "code",
      "metadata": {
        "id": "0wgshacAIvrJ"
      },
      "execution_count": 10,
      "outputs": []
    },
    {
      "cell_type": "code",
      "source": [
        "# List of categorical features to encode\n",
        "categorical_features = ['Name','Gender','City','Working Professional or Student','Profession',\n",
        "                        'Sleep Duration','Dietary Habits','Degree','Have you ever had suicidal thoughts ?',\n",
        "                        'Family History of Mental Illness','Depression']\n",
        "\n",
        "# Apply the encoding function\n",
        "df_train_filtered_copy, df_test_filtered_copy = encode_categorical_features(df_train_filtered_copy, df_test_filtered_copy, categorical_features)\n"
      ],
      "metadata": {
        "id": "puzKGwmSGAX9"
      },
      "execution_count": null,
      "outputs": []
    },
    {
      "cell_type": "code",
      "source": [
        "#filling missing values of the following with 0\n",
        "feat_list = ['Academic Pressure', 'Work Pressure', 'CGPA', 'Study Satisfaction', 'Job Satisfaction', 'Dietary Habits', 'Degree', 'Financial Stress']\n",
        "df_train_filtered_copy[feat_list] = df_train_filtered_copy[feat_list].fillna(0) #vectorizing is more efficient than a for loop\n",
        "df_test_filtered_copy[feat_list] = df_test_filtered_copy[feat_list].fillna(0)"
      ],
      "metadata": {
        "id": "QY0ottPKcF5d"
      },
      "execution_count": 12,
      "outputs": []
    },
    {
      "cell_type": "code",
      "source": [
        "#list of columns 2:22\n",
        "feature_list = df_train_filtered_copy.columns[2:]"
      ],
      "metadata": {
        "id": "lR5TeupA4n9j"
      },
      "execution_count": 17,
      "outputs": []
    },
    {
      "cell_type": "code",
      "source": [
        "print(feature_list)"
      ],
      "metadata": {
        "colab": {
          "base_uri": "https://localhost:8080/"
        },
        "id": "mW555lxV43ER",
        "outputId": "04c1df05-53a8-44f6-9fdc-e0096e50bebc"
      },
      "execution_count": 18,
      "outputs": [
        {
          "output_type": "stream",
          "name": "stdout",
          "text": [
            "Index(['Gender', 'Age', 'City', 'Working Professional or Student',\n",
            "       'Profession', 'Academic Pressure', 'Work Pressure', 'CGPA',\n",
            "       'Study Satisfaction', 'Job Satisfaction', 'Sleep Duration',\n",
            "       'Dietary Habits', 'Degree', 'Have you ever had suicidal thoughts ?',\n",
            "       'Work/Study Hours', 'Financial Stress',\n",
            "       'Family History of Mental Illness', 'Depression', 'Name_nan',\n",
            "       'Name_encoded', 'Name_frequency', 'Gender_nan', 'Gender_encoded',\n",
            "       'Gender_frequency', 'City_nan', 'City_encoded', 'City_frequency',\n",
            "       'Working Professional or Student_nan',\n",
            "       'Working Professional or Student_encoded',\n",
            "       'Working Professional or Student_frequency', 'Profession_nan',\n",
            "       'Profession_encoded', 'Profession_frequency', 'Sleep Duration_nan',\n",
            "       'Sleep Duration_encoded', 'Sleep Duration_frequency',\n",
            "       'Dietary Habits_nan', 'Dietary Habits_encoded',\n",
            "       'Dietary Habits_frequency', 'Degree_nan', 'Degree_encoded',\n",
            "       'Degree_frequency', 'Have you ever had suicidal thoughts ?_nan',\n",
            "       'Have you ever had suicidal thoughts ?_encoded',\n",
            "       'Have you ever had suicidal thoughts ?_frequency',\n",
            "       'Family History of Mental Illness_nan',\n",
            "       'Family History of Mental Illness_encoded',\n",
            "       'Family History of Mental Illness_frequency', 'Depression_nan',\n",
            "       'Depression_encoded', 'Depression_frequency'],\n",
            "      dtype='object')\n"
          ]
        }
      ]
    },
    {
      "cell_type": "markdown",
      "source": [
        "##3. Exploratory Data Analysis (EDA)\n",
        "Evaluate the balance of the dataset with visualization function.\n",
        "\n",
        "Review any interesting features or anamolies.  \n",
        "\n",
        "Make necessary balance adjustments to remove bias during training"
      ],
      "metadata": {
        "id": "Yx2yh9P2_bfS"
      }
    },
    {
      "cell_type": "code",
      "source": [
        "import matplotlib.pyplot as plt\n",
        "import seaborn as sns\n",
        "\n",
        "def plot_top_value_counts(df, feature_list):\n",
        "    \"\"\"\n",
        "    Plots the top 15 value counts for each feature in the given feature list.\n",
        "\n",
        "    Parameters:\n",
        "        df (pd.DataFrame): The input DataFrame containing the data.\n",
        "        feature_list (list): List of feature (column) names to plot.\n",
        "\n",
        "    Returns:\n",
        "        None\n",
        "    \"\"\"\n",
        "    for feature in feature_list:\n",
        "        # Calculate the top 15 value counts\n",
        "        top_values = df[feature].value_counts().head(15)\n",
        "\n",
        "        # Create a bar plot\n",
        "        plt.figure(figsize=(10, 6))\n",
        "        sns.barplot(x=top_values.index, y=top_values.values, palette=\"viridis\")\n",
        "\n",
        "        # Customize the plot\n",
        "        plt.title(f\"Top 15 Value Counts for '{feature}'\", fontsize=14)\n",
        "        plt.xlabel(f\"Values of {feature}\", fontsize=12)\n",
        "        plt.ylabel(\"Count\", fontsize=12)\n",
        "        plt.xticks(rotation=45, ha='right')\n",
        "\n",
        "        # Show the plot\n",
        "        plt.tight_layout()\n",
        "        plt.show()"
      ],
      "metadata": {
        "id": "F2PiCax_huIw"
      },
      "execution_count": 15,
      "outputs": []
    },
    {
      "cell_type": "code",
      "source": [
        "plot_top_value_counts(df_train_filtered_copy, feature_list)"
      ],
      "metadata": {
        "collapsed": true,
        "id": "fK8QNoEQ6SnR"
      },
      "execution_count": null,
      "outputs": []
    },
    {
      "cell_type": "code",
      "source": [
        "df_train_filtered_copy['Depression'].value_counts()"
      ],
      "metadata": {
        "colab": {
          "base_uri": "https://localhost:8080/",
          "height": 178
        },
        "id": "ImOeL0Ca759t",
        "outputId": "97aef160-69c5-4035-b7ec-6498abc86804"
      },
      "execution_count": 20,
      "outputs": [
        {
          "output_type": "execute_result",
          "data": {
            "text/plain": [
              "Depression\n",
              "0    115133\n",
              "1     25567\n",
              "Name: count, dtype: int64"
            ],
            "text/html": [
              "<div>\n",
              "<style scoped>\n",
              "    .dataframe tbody tr th:only-of-type {\n",
              "        vertical-align: middle;\n",
              "    }\n",
              "\n",
              "    .dataframe tbody tr th {\n",
              "        vertical-align: top;\n",
              "    }\n",
              "\n",
              "    .dataframe thead th {\n",
              "        text-align: right;\n",
              "    }\n",
              "</style>\n",
              "<table border=\"1\" class=\"dataframe\">\n",
              "  <thead>\n",
              "    <tr style=\"text-align: right;\">\n",
              "      <th></th>\n",
              "      <th>count</th>\n",
              "    </tr>\n",
              "    <tr>\n",
              "      <th>Depression</th>\n",
              "      <th></th>\n",
              "    </tr>\n",
              "  </thead>\n",
              "  <tbody>\n",
              "    <tr>\n",
              "      <th>0</th>\n",
              "      <td>115133</td>\n",
              "    </tr>\n",
              "    <tr>\n",
              "      <th>1</th>\n",
              "      <td>25567</td>\n",
              "    </tr>\n",
              "  </tbody>\n",
              "</table>\n",
              "</div><br><label><b>dtype:</b> int64</label>"
            ]
          },
          "metadata": {},
          "execution_count": 20
        }
      ]
    },
    {
      "cell_type": "code",
      "source": [
        "df_train_filtered_copy['Financial Stress'].value_counts()"
      ],
      "metadata": {
        "id": "QR1KFWQ6xbx7"
      },
      "execution_count": null,
      "outputs": []
    },
    {
      "cell_type": "code",
      "source": [
        "#importing necessary packages for balancing\n",
        "from imblearn.over_sampling import SMOTE\n",
        "from imblearn.under_sampling import RandomUnderSampler\n",
        "from imblearn.combine import SMOTEENN\n",
        "from sklearn.model_selection import train_test_split\n",
        "from collections import Counter"
      ],
      "metadata": {
        "id": "GfbKIPGwCqtZ"
      },
      "execution_count": null,
      "outputs": []
    },
    {
      "cell_type": "code",
      "source": [
        "#preparing the data for SMOTEENN rebalancing of target variable \"depression\"\n",
        "#create new dataframe for train and test and remove all string datatypes\n",
        "clean_train = df_train_filtered_copy.drop(columns=['Name','Gender','City','Working Professional or Student','Profession',\n",
        "                                                   'Sleep Duration','Dietary Habits','Degree','Have you ever had suicidal thoughts ?',\n",
        "                                                   'Family History of Mental Illness'])\n",
        "\n",
        "clean_test = df_test_filtered_copy.drop(columns=['Name','Gender','City','Working Professional or Student','Profession',\n",
        "                                                   'Sleep Duration','Dietary Habits','Degree','Have you ever had suicidal thoughts ?',\n",
        "                                                   'Family History of Mental Illness'])"
      ],
      "metadata": {
        "id": "fxc1-vGWBV2p"
      },
      "execution_count": 21,
      "outputs": []
    },
    {
      "cell_type": "code",
      "source": [
        "clean_train.info()"
      ],
      "metadata": {
        "colab": {
          "base_uri": "https://localhost:8080/"
        },
        "id": "8jNZqbH2BXgc",
        "outputId": "bf44b504-cfbd-455d-87dd-7b83e10e94f8"
      },
      "execution_count": 22,
      "outputs": [
        {
          "output_type": "stream",
          "name": "stdout",
          "text": [
            "<class 'pandas.core.frame.DataFrame'>\n",
            "RangeIndex: 140700 entries, 0 to 140699\n",
            "Data columns (total 43 columns):\n",
            " #   Column                                           Non-Null Count   Dtype  \n",
            "---  ------                                           --------------   -----  \n",
            " 0   id                                               140700 non-null  int64  \n",
            " 1   Age                                              140700 non-null  float64\n",
            " 2   Academic Pressure                                140700 non-null  float64\n",
            " 3   Work Pressure                                    140700 non-null  float64\n",
            " 4   CGPA                                             140700 non-null  float64\n",
            " 5   Study Satisfaction                               140700 non-null  float64\n",
            " 6   Job Satisfaction                                 140700 non-null  float64\n",
            " 7   Work/Study Hours                                 140700 non-null  float64\n",
            " 8   Financial Stress                                 140700 non-null  float64\n",
            " 9   Depression                                       140700 non-null  int64  \n",
            " 10  Name_nan                                         140700 non-null  int64  \n",
            " 11  Name_encoded                                     140700 non-null  int64  \n",
            " 12  Name_frequency                                   140700 non-null  float64\n",
            " 13  Gender_nan                                       140700 non-null  int64  \n",
            " 14  Gender_encoded                                   140700 non-null  int64  \n",
            " 15  Gender_frequency                                 140700 non-null  float64\n",
            " 16  City_nan                                         140700 non-null  int64  \n",
            " 17  City_encoded                                     140700 non-null  int64  \n",
            " 18  City_frequency                                   140700 non-null  float64\n",
            " 19  Working Professional or Student_nan              140700 non-null  int64  \n",
            " 20  Working Professional or Student_encoded          140700 non-null  int64  \n",
            " 21  Working Professional or Student_frequency        140700 non-null  float64\n",
            " 22  Profession_nan                                   140700 non-null  int64  \n",
            " 23  Profession_encoded                               140700 non-null  int64  \n",
            " 24  Profession_frequency                             140700 non-null  float64\n",
            " 25  Sleep Duration_nan                               140700 non-null  int64  \n",
            " 26  Sleep Duration_encoded                           140700 non-null  int64  \n",
            " 27  Sleep Duration_frequency                         140700 non-null  float64\n",
            " 28  Dietary Habits_nan                               140700 non-null  int64  \n",
            " 29  Dietary Habits_encoded                           140700 non-null  int64  \n",
            " 30  Dietary Habits_frequency                         140700 non-null  float64\n",
            " 31  Degree_nan                                       140700 non-null  int64  \n",
            " 32  Degree_encoded                                   140700 non-null  int64  \n",
            " 33  Degree_frequency                                 140700 non-null  float64\n",
            " 34  Have you ever had suicidal thoughts ?_nan        140700 non-null  int64  \n",
            " 35  Have you ever had suicidal thoughts ?_encoded    140700 non-null  int64  \n",
            " 36  Have you ever had suicidal thoughts ?_frequency  140700 non-null  float64\n",
            " 37  Family History of Mental Illness_nan             140700 non-null  int64  \n",
            " 38  Family History of Mental Illness_encoded         140700 non-null  int64  \n",
            " 39  Family History of Mental Illness_frequency       140700 non-null  float64\n",
            " 40  Depression_nan                                   140700 non-null  int64  \n",
            " 41  Depression_encoded                               140700 non-null  int64  \n",
            " 42  Depression_frequency                             140700 non-null  float64\n",
            "dtypes: float64(19), int64(24)\n",
            "memory usage: 46.2 MB\n"
          ]
        }
      ]
    },
    {
      "cell_type": "code",
      "source": [
        "# Drop redundant versions of the target variable\n",
        "columns_to_drop = ['Depression_nan', 'Depression_encoded', 'Depression_frequency']\n",
        "clean_train = clean_train.drop(columns=columns_to_drop)"
      ],
      "metadata": {
        "id": "NrpPuNmQLR3G"
      },
      "execution_count": 23,
      "outputs": []
    },
    {
      "cell_type": "code",
      "source": [
        "# Define feature matrix (X) and target variable (y)\n",
        "X = clean_train.drop(columns=['id', 'Depression'])  # Drop ID and target variable\n",
        "y = clean_train['Depression']"
      ],
      "metadata": {
        "id": "TkHAML-0MHW2"
      },
      "execution_count": 41,
      "outputs": []
    },
    {
      "cell_type": "code",
      "source": [
        "from imblearn.combine import SMOTEENN\n",
        "from collections import Counter\n",
        "\n",
        "# Initialize SMOTEENN\n",
        "smoteenn = SMOTEENN(random_state=42)\n",
        "\n",
        "# Apply SMOTEENN to balance the data\n",
        "X_resampled, y_resampled = smoteenn.fit_resample(X, y)\n",
        "\n",
        "# Print class distributions before and after resampling\n",
        "print(\"Class distribution before resampling:\", Counter(y))\n",
        "print(\"Class distribution after resampling:\", Counter(y_resampled))"
      ],
      "metadata": {
        "colab": {
          "base_uri": "https://localhost:8080/"
        },
        "id": "yOXq278qMYOm",
        "outputId": "bb499ba8-8469-4b8b-e389-0e0cc287d916"
      },
      "execution_count": 25,
      "outputs": [
        {
          "output_type": "stream",
          "name": "stdout",
          "text": [
            "Class distribution before resampling: Counter({0: 115133, 1: 25567})\n",
            "Class distribution after resampling: Counter({1: 108363, 0: 89807})\n"
          ]
        }
      ]
    },
    {
      "cell_type": "code",
      "source": [
        "# Check the shape of the resampled data\n",
        "print(\"Resampled feature matrix shape:\", X_resampled.shape)\n",
        "print(\"Resampled target variable shape:\", y_resampled.shape)"
      ],
      "metadata": {
        "colab": {
          "base_uri": "https://localhost:8080/"
        },
        "id": "YQ9yPuA8NxVj",
        "outputId": "303830f5-3adf-412d-b36c-8b99ee3ef7b4"
      },
      "execution_count": 46,
      "outputs": [
        {
          "output_type": "stream",
          "name": "stdout",
          "text": [
            "Resampled feature matrix shape: (198170, 38)\n",
            "Resampled target variable shape: (198170,)\n"
          ]
        }
      ]
    },
    {
      "cell_type": "code",
      "source": [
        "from sklearn.model_selection import train_test_split\n",
        "\n",
        "# Split the balanced dataset into train and test sets\n",
        "X_train, X_test, y_train, y_test = train_test_split(X_resampled, y_resampled,\n",
        "                                                    test_size=0.2, random_state=42, stratify=y_resampled)\n",
        "\n",
        "print(\"Training set shape:\", X_train.shape, y_train.shape)\n",
        "print(\"Testing set shape:\", X_test.shape, y_test.shape)"
      ],
      "metadata": {
        "colab": {
          "base_uri": "https://localhost:8080/"
        },
        "id": "VyTeci3RN09a",
        "outputId": "6ddd2eea-8703-410e-b6c7-b284bfa5613a"
      },
      "execution_count": 27,
      "outputs": [
        {
          "output_type": "stream",
          "name": "stdout",
          "text": [
            "Training set shape: (158536, 38) (158536,)\n",
            "Testing set shape: (39634, 38) (39634,)\n"
          ]
        }
      ]
    },
    {
      "cell_type": "markdown",
      "source": [
        "##4. Model Training"
      ],
      "metadata": {
        "id": "tt7Og8HXOIlb"
      }
    },
    {
      "cell_type": "markdown",
      "source": [
        "###4.1 XGBoost"
      ],
      "metadata": {
        "id": "CM1rMP_AP3zE"
      }
    },
    {
      "cell_type": "code",
      "source": [
        "from xgboost import XGBClassifier\n",
        "from sklearn.metrics import classification_report\n",
        "\n",
        "# Initialize and train XGBoost model\n",
        "xgb_model = XGBClassifier(random_state=42)\n",
        "xgb_model.fit(X_train, y_train)\n",
        "\n",
        "# Make predictions\n",
        "y_pred_xgb = xgb_model.predict(X_test)\n",
        "\n",
        "# Evaluate XGBoost\n",
        "print(\"XGBoost Model Performance:\")\n",
        "print(classification_report(y_test, y_pred_xgb))"
      ],
      "metadata": {
        "colab": {
          "base_uri": "https://localhost:8080/"
        },
        "id": "aqFs9PFvP3T5",
        "outputId": "31de9cb8-52eb-4eea-c7a0-66e20c950223"
      },
      "execution_count": 28,
      "outputs": [
        {
          "output_type": "stream",
          "name": "stdout",
          "text": [
            "XGBoost Model Performance:\n",
            "              precision    recall  f1-score   support\n",
            "\n",
            "           0       0.98      0.99      0.99     17961\n",
            "           1       0.99      0.99      0.99     21673\n",
            "\n",
            "    accuracy                           0.99     39634\n",
            "   macro avg       0.99      0.99      0.99     39634\n",
            "weighted avg       0.99      0.99      0.99     39634\n",
            "\n"
          ]
        }
      ]
    },
    {
      "cell_type": "markdown",
      "source": [
        "###4.2 Random Forest"
      ],
      "metadata": {
        "id": "ruNntis-QK6q"
      }
    },
    {
      "cell_type": "code",
      "source": [
        "from sklearn.ensemble import RandomForestClassifier\n",
        "\n",
        "# Initialize and train Random Forest model\n",
        "rf_model = RandomForestClassifier(n_estimators=100, random_state=42)\n",
        "rf_model.fit(X_train, y_train)\n",
        "\n",
        "# Make predictions\n",
        "y_pred_rf = rf_model.predict(X_test)\n",
        "\n",
        "# Evaluate Random Forest\n",
        "print(\"Random Forest Model Performance:\")\n",
        "print(classification_report(y_test, y_pred_rf))"
      ],
      "metadata": {
        "colab": {
          "base_uri": "https://localhost:8080/"
        },
        "id": "bzy1IGnYONVW",
        "outputId": "4e1ea657-c042-4deb-e140-2d653194e69d"
      },
      "execution_count": 29,
      "outputs": [
        {
          "output_type": "stream",
          "name": "stdout",
          "text": [
            "Random Forest Model Performance:\n",
            "              precision    recall  f1-score   support\n",
            "\n",
            "           0       0.98      0.98      0.98     17961\n",
            "           1       0.99      0.99      0.99     21673\n",
            "\n",
            "    accuracy                           0.99     39634\n",
            "   macro avg       0.99      0.99      0.99     39634\n",
            "weighted avg       0.99      0.99      0.99     39634\n",
            "\n"
          ]
        }
      ]
    },
    {
      "cell_type": "markdown",
      "source": [
        "###4.3 LightGBM"
      ],
      "metadata": {
        "id": "Kh6l5-r4QTt3"
      }
    },
    {
      "cell_type": "code",
      "source": [
        "from lightgbm import LGBMClassifier\n",
        "\n",
        "# Initialize and train LightGBM model\n",
        "lgb_model = LGBMClassifier(random_state=42)\n",
        "lgb_model.fit(X_train, y_train)\n",
        "\n",
        "# Make predictions\n",
        "y_pred_lgb = lgb_model.predict(X_test)\n",
        "\n",
        "# Evaluate LightGBM\n",
        "print(\"LightGBM Model Performance:\")\n",
        "print(classification_report(y_test, y_pred_lgb))"
      ],
      "metadata": {
        "colab": {
          "base_uri": "https://localhost:8080/"
        },
        "id": "8j6grx0kQN6F",
        "outputId": "893c3dfd-b0d2-44bb-a9bf-07b55bd619b3"
      },
      "execution_count": 30,
      "outputs": [
        {
          "output_type": "stream",
          "name": "stdout",
          "text": [
            "[LightGBM] [Warning] Found whitespace in feature_names, replace with underlines\n",
            "[LightGBM] [Info] Number of positive: 86690, number of negative: 71846\n",
            "[LightGBM] [Info] Auto-choosing col-wise multi-threading, the overhead of testing was 0.013989 seconds.\n",
            "You can set `force_col_wise=true` to remove the overhead.\n",
            "[LightGBM] [Info] Total Bins 5213\n",
            "[LightGBM] [Info] Number of data points in the train set: 158536, number of used features: 28\n",
            "[LightGBM] [Info] [binary:BoostFromScore]: pavg=0.546816 -> initscore=0.187814\n",
            "[LightGBM] [Info] Start training from score 0.187814\n",
            "LightGBM Model Performance:\n",
            "              precision    recall  f1-score   support\n",
            "\n",
            "           0       0.98      0.99      0.98     17961\n",
            "           1       0.99      0.99      0.99     21673\n",
            "\n",
            "    accuracy                           0.99     39634\n",
            "   macro avg       0.99      0.99      0.99     39634\n",
            "weighted avg       0.99      0.99      0.99     39634\n",
            "\n"
          ]
        }
      ]
    },
    {
      "cell_type": "markdown",
      "source": [
        "##5. Evaluation of Models"
      ],
      "metadata": {
        "id": "ybQD5wSEQkAr"
      }
    },
    {
      "cell_type": "code",
      "source": [
        "from sklearn.metrics import confusion_matrix\n",
        "import seaborn as sns\n",
        "import matplotlib.pyplot as plt\n",
        "\n",
        "# Function to plot confusion matrix\n",
        "def plot_confusion_matrix(y_true, y_pred, title=\"Confusion Matrix\"):\n",
        "    cm = confusion_matrix(y_true, y_pred)\n",
        "    sns.heatmap(cm, annot=True, fmt=\"d\", cmap=\"Blues\", xticklabels=['No Depression', 'Depression'],\n",
        "                yticklabels=['No Depression', 'Depression'])\n",
        "    plt.xlabel(\"Predicted\")\n",
        "    plt.ylabel(\"Actual\")\n",
        "    plt.title(title)\n",
        "    plt.show()\n",
        "\n",
        "# Plot confusion matrices\n",
        "plot_confusion_matrix(y_test, y_pred_xgb, \"XGBoost Confusion Matrix\")\n",
        "plot_confusion_matrix(y_test, y_pred_rf, \"Random Forest Confusion Matrix\")\n",
        "plot_confusion_matrix(y_test, y_pred_lgb, \"LightGBM Confusion Matrix\")"
      ],
      "metadata": {
        "colab": {
          "base_uri": "https://localhost:8080/",
          "height": 1000
        },
        "id": "K0zjjifcQm7S",
        "outputId": "62137211-3de2-4bb0-cc47-df852a13530c"
      },
      "execution_count": 31,
      "outputs": [
        {
          "output_type": "display_data",
          "data": {
            "text/plain": [
              "<Figure size 640x480 with 2 Axes>"
            ],
            "image/png": "[encoded data removed]"
          },
          "metadata": {}
        },
        {
          "output_type": "display_data",
          "data": {
            "text/plain": [
              "<Figure size 640x480 with 2 Axes>"
            ],
            "image/png": "[encoded data removed]"
          },
          "metadata": {}
        },
        {
          "output_type": "display_data",
          "data": {
            "text/plain": [
              "<Figure size 640x480 with 2 Axes>"
            ],
            "image/png": "[encoded data removed]"
          },
          "metadata": {}
        }
      ]
    },
    {
      "cell_type": "markdown",
      "source": [
        "###5.2 Feature Importance"
      ],
      "metadata": {
        "id": "4I4a4xJjQ4Ej"
      }
    },
    {
      "cell_type": "code",
      "source": [
        "#XGBoost Feature Importance\n",
        "importances = xgb_model.feature_importances_\n",
        "features = X.columns\n",
        "\n",
        "# Display feature importance\n",
        "importance_df = pd.DataFrame({'Feature': features, 'Importance': importances})\n",
        "importance_df = importance_df.sort_values(by='Importance', ascending=False)\n",
        "print(importance_df)"
      ],
      "metadata": {
        "colab": {
          "base_uri": "https://localhost:8080/"
        },
        "id": "6jTbsYrEQnid",
        "outputId": "41870c76-ddd1-47bb-f78b-59a5f4db0fd0"
      },
      "execution_count": 32,
      "outputs": [
        {
          "output_type": "stream",
          "name": "stdout",
          "text": [
            "                                            Feature  Importance\n",
            "0                                               Age    0.426123\n",
            "34  Have you ever had suicidal thoughts ?_frequency    0.134457\n",
            "18          Working Professional or Student_encoded    0.114520\n",
            "33    Have you ever had suicidal thoughts ?_encoded    0.046521\n",
            "36         Family History of Mental Illness_encoded    0.037232\n",
            "2                                     Work Pressure    0.035686\n",
            "5                                  Job Satisfaction    0.030660\n",
            "7                                  Financial Stress    0.022171\n",
            "27                           Dietary Habits_encoded    0.022071\n",
            "1                                 Academic Pressure    0.021902\n",
            "22                             Profession_frequency    0.017663\n",
            "28                         Dietary Habits_frequency    0.013378\n",
            "25                         Sleep Duration_frequency    0.011675\n",
            "21                               Profession_encoded    0.011379\n",
            "37       Family History of Mental Illness_frequency    0.011241\n",
            "6                                  Work/Study Hours    0.007340\n",
            "13                                 Gender_frequency    0.007136\n",
            "24                           Sleep Duration_encoded    0.004933\n",
            "12                                   Gender_encoded    0.004542\n",
            "4                                Study Satisfaction    0.002737\n",
            "9                                      Name_encoded    0.002322\n",
            "31                                 Degree_frequency    0.002296\n",
            "30                                   Degree_encoded    0.002292\n",
            "10                                   Name_frequency    0.002248\n",
            "15                                     City_encoded    0.002130\n",
            "3                                              CGPA    0.002070\n",
            "16                                   City_frequency    0.001903\n",
            "19        Working Professional or Student_frequency    0.001373\n",
            "8                                          Name_nan    0.000000\n",
            "29                                       Degree_nan    0.000000\n",
            "23                               Sleep Duration_nan    0.000000\n",
            "11                                       Gender_nan    0.000000\n",
            "32        Have you ever had suicidal thoughts ?_nan    0.000000\n",
            "20                                   Profession_nan    0.000000\n",
            "14                                         City_nan    0.000000\n",
            "35             Family History of Mental Illness_nan    0.000000\n",
            "17              Working Professional or Student_nan    0.000000\n",
            "26                               Dietary Habits_nan    0.000000\n"
          ]
        }
      ]
    },
    {
      "cell_type": "code",
      "source": [
        "#Random Forest Feature Importance\n",
        "rf_importances = rf_model.feature_importances_\n",
        "print(sorted(zip(features, rf_importances), key=lambda x: x[1], reverse=True))"
      ],
      "metadata": {
        "colab": {
          "base_uri": "https://localhost:8080/"
        },
        "id": "Un7XAhRjRBu2",
        "outputId": "953aec19-e00a-4a7f-aad2-d999e25cbe99"
      },
      "execution_count": 33,
      "outputs": [
        {
          "output_type": "stream",
          "name": "stdout",
          "text": [
            "[('Age', 0.2900584462118578), ('Profession_encoded', 0.1057142879253062), ('Profession_frequency', 0.10570212684339501), ('Working Professional or Student_frequency', 0.07240805762587856), ('Work Pressure', 0.04778489890152008), ('Academic Pressure', 0.044523091075778266), ('Working Professional or Student_encoded', 0.04390606619666872), ('Have you ever had suicidal thoughts ?_frequency', 0.042204233308099255), ('Job Satisfaction', 0.03237578394060689), ('Study Satisfaction', 0.0299655937437732), ('Financial Stress', 0.029031887094285204), ('CGPA', 0.0243447313821528), ('Degree_frequency', 0.0204828567120067), ('Work/Study Hours', 0.01810405271946405), ('Have you ever had suicidal thoughts ?_encoded', 0.01745270575009479), ('Dietary Habits_encoded', 0.010457632036345397), ('Dietary Habits_frequency', 0.00940628319177461), ('Sleep Duration_frequency', 0.008772719176751426), ('Family History of Mental Illness_frequency', 0.00690220625973134), ('Name_encoded', 0.0060414496074244215), ('Name_frequency', 0.005794286869891086), ('City_encoded', 0.005129669828614093), ('Sleep Duration_encoded', 0.00506246764838467), ('City_frequency', 0.004889475775472358), ('Degree_encoded', 0.004260263697334538), ('Gender_frequency', 0.004136964481837051), ('Family History of Mental Illness_encoded', 0.0029051196275251953), ('Gender_encoded', 0.002182642368026407), ('Name_nan', 0.0), ('Gender_nan', 0.0), ('City_nan', 0.0), ('Working Professional or Student_nan', 0.0), ('Profession_nan', 0.0), ('Sleep Duration_nan', 0.0), ('Dietary Habits_nan', 0.0), ('Degree_nan', 0.0), ('Have you ever had suicidal thoughts ?_nan', 0.0), ('Family History of Mental Illness_nan', 0.0)]\n"
          ]
        }
      ]
    },
    {
      "cell_type": "code",
      "source": [
        "#LightGBM Feature Importance\n",
        "lgb_importances = lgb_model.feature_importances_\n",
        "print(sorted(zip(features, lgb_importances), key=lambda x: x[1], reverse=True))"
      ],
      "metadata": {
        "colab": {
          "base_uri": "https://localhost:8080/"
        },
        "id": "GIQV_RrcRU9K",
        "outputId": "ad2c8c5f-ce7c-48a9-ad2b-4daed57b3012"
      },
      "execution_count": 34,
      "outputs": [
        {
          "output_type": "stream",
          "name": "stdout",
          "text": [
            "[('Age', 367), ('Financial Stress', 324), ('Work Pressure', 260), ('Work/Study Hours', 238), ('Job Satisfaction', 228), ('Name_encoded', 157), ('Have you ever had suicidal thoughts ?_frequency', 125), ('Dietary Habits_encoded', 122), ('Academic Pressure', 120), ('Sleep Duration_frequency', 120), ('Dietary Habits_frequency', 118), ('Name_frequency', 113), ('Profession_frequency', 107), ('Profession_encoded', 102), ('Degree_encoded', 90), ('City_encoded', 74), ('Degree_frequency', 53), ('City_frequency', 52), ('Study Satisfaction', 38), ('Sleep Duration_encoded', 35), ('CGPA', 32), ('Have you ever had suicidal thoughts ?_encoded', 31), ('Family History of Mental Illness_frequency', 30), ('Family History of Mental Illness_encoded', 25), ('Gender_encoded', 21), ('Gender_frequency', 17), ('Working Professional or Student_encoded', 1), ('Name_nan', 0), ('Gender_nan', 0), ('City_nan', 0), ('Working Professional or Student_nan', 0), ('Working Professional or Student_frequency', 0), ('Profession_nan', 0), ('Sleep Duration_nan', 0), ('Dietary Habits_nan', 0), ('Degree_nan', 0), ('Have you ever had suicidal thoughts ?_nan', 0), ('Family History of Mental Illness_nan', 0)]\n"
          ]
        }
      ]
    },
    {
      "cell_type": "code",
      "source": [],
      "metadata": {
        "id": "cGGgu2WZSQWv"
      },
      "execution_count": null,
      "outputs": []
    },
    {
      "cell_type": "markdown",
      "source": [
        "##6. Test Submission"
      ],
      "metadata": {
        "id": "x0md5L6ASRFo"
      }
    },
    {
      "cell_type": "code",
      "source": [
        "import pandas as pd\n",
        "\n",
        "# Assume df_test is your unseen test dataset\n",
        "# Example structure: 'id' column + same features as training data\n",
        "\n",
        "# 1. Preprocess the test dataset\n",
        "# Ensure the test set only has the features used for training\n",
        "test_ids = clean_test['id']  # Extract 'id' for the final output\n",
        "X_test_unseen = clean_test.drop(columns=['id'])  # Drop 'id' for predictions\n",
        "\n",
        "# The features in X_test_unseen must match the training set\n",
        "print(\"Test Data Shape:\", X_test_unseen.shape)\n",
        "\n",
        "# 2. Make predictions on unseen data\n",
        "y_pred_test = xgb_model.predict(X_test_unseen)\n",
        "\n",
        "# If XGBoost outputs probabilities, convert them to class labels\n",
        "# Uncomment the next line if needed:\n",
        "# y_pred_test = (y_pred_test >= 0.5).astype(int)  # Convert probabilities to binary\n",
        "\n",
        "# 3. Create the output DataFrame with 'id' and 'Depression'\n",
        "output = pd.DataFrame({\n",
        "    'id': test_ids,\n",
        "    'Depression': y_pred_test\n",
        "})\n",
        "\n",
        "# 4. Save the output as a CSV file to google drive\n",
        "output.to_csv('/content/drive/MyDrive/projects_jff/Forecasts/Kaggle_Depression/submission.csv', index=False)\n",
        "# output.to_csv('submission.csv', index=False)  # Save the output\n",
        "print(\"Output file saved as 'submission.csv'\")\n",
        "\n",
        "# Display the first few rows\n",
        "print(output.head())"
      ],
      "metadata": {
        "colab": {
          "base_uri": "https://localhost:8080/"
        },
        "id": "M24JlpD4SQRg",
        "outputId": "a85d6efb-6815-4a23-c98e-601e219c67f3"
      },
      "execution_count": 35,
      "outputs": [
        {
          "output_type": "stream",
          "name": "stdout",
          "text": [
            "Test Data Shape: (93800, 38)\n",
            "Output file saved as 'submission.csv'\n",
            "       id  Depression\n",
            "0  140700           0\n",
            "1  140701           0\n",
            "2  140702           0\n",
            "3  140703           1\n",
            "4  140704           0\n"
          ]
        }
      ]
    },
    {
      "cell_type": "markdown",
      "source": [
        "##6.1 Ensemble Submission"
      ],
      "metadata": {
        "id": "pdeMQRfSqtIK"
      }
    },
    {
      "cell_type": "code",
      "source": [
        "from sklearn.model_selection import train_test_split\n",
        "\n",
        "# Split the balanced dataset into train and test sets\n",
        "X_train, X_test, y_train, y_test = train_test_split(X_resampled, y_resampled,\n",
        "                                                    test_size=0.2, random_state=42, stratify=y_resampled)\n",
        "\n",
        "print(\"Training set shape:\", X_train.shape, y_train.shape)\n",
        "print(\"Testing set shape:\", X_test.shape, y_test.shape)"
      ],
      "metadata": {
        "id": "UhZgwlUcs4Dv"
      },
      "execution_count": null,
      "outputs": []
    },
    {
      "cell_type": "code",
      "source": [
        "# Define features (X) and target variable (y)\n",
        "# X = clean_train.drop(columns=['id', 'Depression'])  # Drop irrelevant columns\n",
        "# y = clean_train['Depression']  # Target variable\n",
        "\n",
        "# Train-test split\n",
        "X_train, X_val, y_train, y_val = train_test_split(X_resampled, y_resampled, test_size=0.2, random_state=42, stratify=y_resampled)\n",
        "\n",
        "print(\"Training set shape:\", X_train.shape)\n",
        "print(\"Validation set shape:\", X_val.shape)"
      ],
      "metadata": {
        "colab": {
          "base_uri": "https://localhost:8080/"
        },
        "id": "zWtN2KoarOZo",
        "outputId": "1adef9d9-7841-4758-bb12-98ed6d3e428b"
      },
      "execution_count": 47,
      "outputs": [
        {
          "output_type": "stream",
          "name": "stdout",
          "text": [
            "Training set shape: (158536, 38)\n",
            "Validation set shape: (39634, 38)\n"
          ]
        }
      ]
    },
    {
      "cell_type": "code",
      "source": [
        "# Initialize the models\n",
        "xgb_model = XGBClassifier(random_state=42)\n",
        "rf_model = RandomForestClassifier(n_estimators=100, random_state=42)\n",
        "lgb_model = LGBMClassifier(random_state=42)"
      ],
      "metadata": {
        "id": "BVHxGVmXqsuA"
      },
      "execution_count": 48,
      "outputs": []
    },
    {
      "cell_type": "code",
      "source": [
        "from sklearn.ensemble import VotingClassifier\n",
        "\n",
        "# Create the ensemble model with soft voting\n",
        "ensemble_model = VotingClassifier(\n",
        "    estimators=[\n",
        "        ('xgb', xgb_model),\n",
        "        ('rf', rf_model),\n",
        "        ('lgb', lgb_model)\n",
        "    ],\n",
        "    voting='hard'  # 'soft' for probabilities; 'hard' for majority class\n",
        ")\n",
        "\n",
        "# Train the ensemble model\n",
        "ensemble_model.fit(X_train, y_train)\n",
        "\n",
        "# Evaluate on the validation set\n",
        "y_val_pred = ensemble_model.predict(X_val)\n",
        "print(\"Ensemble Model Performance on Validation Set:\")\n",
        "print(classification_report(y_val, y_val_pred))"
      ],
      "metadata": {
        "colab": {
          "base_uri": "https://localhost:8080/"
        },
        "id": "e16-JpJ7rJr2",
        "outputId": "16fa0e98-7aec-45c1-e9a2-de9fcc5b5512"
      },
      "execution_count": 52,
      "outputs": [
        {
          "output_type": "stream",
          "name": "stdout",
          "text": [
            "[LightGBM] [Warning] Found whitespace in feature_names, replace with underlines\n",
            "[LightGBM] [Info] Number of positive: 86690, number of negative: 71846\n",
            "[LightGBM] [Info] Auto-choosing row-wise multi-threading, the overhead of testing was 0.013011 seconds.\n",
            "You can set `force_row_wise=true` to remove the overhead.\n",
            "And if memory is not enough, you can set `force_col_wise=true`.\n",
            "[LightGBM] [Info] Total Bins 5213\n",
            "[LightGBM] [Info] Number of data points in the train set: 158536, number of used features: 28\n",
            "[LightGBM] [Info] [binary:BoostFromScore]: pavg=0.546816 -> initscore=0.187814\n",
            "[LightGBM] [Info] Start training from score 0.187814\n",
            "Ensemble Model Performance on Validation Set:\n",
            "              precision    recall  f1-score   support\n",
            "\n",
            "           0       0.98      0.99      0.99     17961\n",
            "           1       0.99      0.99      0.99     21673\n",
            "\n",
            "    accuracy                           0.99     39634\n",
            "   macro avg       0.99      0.99      0.99     39634\n",
            "weighted avg       0.99      0.99      0.99     39634\n",
            "\n"
          ]
        }
      ]
    },
    {
      "cell_type": "code",
      "source": [
        "# Preprocess test dataset (ensure same features as training set)\n",
        "test_ids = clean_test['id']  # Extract IDs for the final output\n",
        "X_test = clean_test.drop(columns=['id'])  # Drop 'id'\n",
        "\n",
        "# Predict the outcomes\n",
        "y_test_pred = ensemble_model.predict(X_test)\n",
        "\n",
        "# Create the output DataFrame\n",
        "output = pd.DataFrame({\n",
        "    'id': test_ids,\n",
        "    'Depression': y_test_pred\n",
        "})\n",
        "\n",
        "# Save predictions to a CSV file to drive\n",
        "output.to_csv('/content/drive/MyDrive/projects_jff/Forecasts/Kaggle_Depression/ensemble_predictions_hv.csv', index=False)\n",
        "\n",
        "print(\"Predictions saved to 'ensemble_predictions.csv'.\")\n",
        "print(output.head())"
      ],
      "metadata": {
        "colab": {
          "base_uri": "https://localhost:8080/"
        },
        "id": "r5WY3FhVtYaI",
        "outputId": "772a027e-5361-4219-9f67-d25b3f957303"
      },
      "execution_count": 53,
      "outputs": [
        {
          "output_type": "stream",
          "name": "stdout",
          "text": [
            "Predictions saved to 'ensemble_predictions.csv'.\n",
            "       id  Depression\n",
            "0  140700           0\n",
            "1  140701           0\n",
            "2  140702           0\n",
            "3  140703           1\n",
            "4  140704           0\n"
          ]
        }
      ]
    },
    {
      "cell_type": "markdown",
      "source": [
        "###6.2 LightGBM Submission"
      ],
      "metadata": {
        "id": "A9H-fAPEwCfu"
      }
    },
    {
      "cell_type": "code",
      "source": [
        "# Preprocess test dataset (ensure same features as training set)\n",
        "test_ids = clean_test['id']  # Extract IDs for the final output\n",
        "X_test = clean_test.drop(columns=['id'])  # Drop 'id'\n",
        "\n",
        "# Initialize and train LightGBM model\n",
        "lgb_model = LGBMClassifier(random_state=42)\n",
        "lgb_model.fit(X_train, y_train)\n",
        "# Predict the outcomes\n",
        "y_test_pred = lgb_model.predict(X_test)\n",
        "\n",
        "# Create the output DataFrame\n",
        "output = pd.DataFrame({\n",
        "    'id': test_ids,\n",
        "    'Depression': y_test_pred\n",
        "})\n",
        "\n",
        "# Save predictions to a CSV file to drive\n",
        "output.to_csv('/content/drive/MyDrive/projects_jff/Forecasts/Kaggle_Depression/lgbm_submission.csv', index=False)\n",
        "\n",
        "print(\"Predictions saved to 'ensemble_predictions.csv'.\")\n",
        "print(output.head())"
      ],
      "metadata": {
        "colab": {
          "base_uri": "https://localhost:8080/"
        },
        "id": "2n5uDeSDtqVL",
        "outputId": "cded288d-d6b3-430e-fa68-7d1ad432a24c"
      },
      "execution_count": 55,
      "outputs": [
        {
          "output_type": "stream",
          "name": "stdout",
          "text": [
            "[LightGBM] [Warning] Found whitespace in feature_names, replace with underlines\n",
            "[LightGBM] [Info] Number of positive: 86690, number of negative: 71846\n",
            "[LightGBM] [Info] Auto-choosing row-wise multi-threading, the overhead of testing was 0.008731 seconds.\n",
            "You can set `force_row_wise=true` to remove the overhead.\n",
            "And if memory is not enough, you can set `force_col_wise=true`.\n",
            "[LightGBM] [Info] Total Bins 5213\n",
            "[LightGBM] [Info] Number of data points in the train set: 158536, number of used features: 28\n",
            "[LightGBM] [Info] [binary:BoostFromScore]: pavg=0.546816 -> initscore=0.187814\n",
            "[LightGBM] [Info] Start training from score 0.187814\n",
            "Predictions saved to 'ensemble_predictions.csv'.\n",
            "       id  Depression\n",
            "0  140700           0\n",
            "1  140701           0\n",
            "2  140702           0\n",
            "3  140703           1\n",
            "4  140704           0\n"
          ]
        }
      ]
    },
    {
      "cell_type": "markdown",
      "source": [
        "###6.4 Random Forest Submission"
      ],
      "metadata": {
        "id": "8l1Yx9dgxDmV"
      }
    },
    {
      "cell_type": "code",
      "source": [
        "# Preprocess test dataset (ensure same features as training set)\n",
        "test_ids = clean_test['id']  # Extract IDs for the final output\n",
        "X_test = clean_test.drop(columns=['id'])  # Drop 'id'\n",
        "\n",
        "# Initialize and train LightGBM model\n",
        "rf_model = RandomForestClassifier(n_estimators=100, random_state=42)\n",
        "rf_model.fit(X_train, y_train)\n",
        "# Predict the outcomes\n",
        "y_test_pred = rf_model.predict(X_test)\n",
        "\n",
        "# Create the output DataFrame\n",
        "output = pd.DataFrame({\n",
        "    'id': test_ids,\n",
        "    'Depression': y_test_pred\n",
        "})\n",
        "\n",
        "# Save predictions to a CSV file to drive\n",
        "output.to_csv('/content/drive/MyDrive/projects_jff/Forecasts/Kaggle_Depression/rf_submission.csv', index=False)\n",
        "\n",
        "print(\"Predictions saved to 'ensemble_predictions.csv'.\")\n",
        "print(output.head())"
      ],
      "metadata": {
        "colab": {
          "base_uri": "https://localhost:8080/"
        },
        "id": "wh9BbCILxMWT",
        "outputId": "2d90a2dc-6966-468c-d528-310d13c88d21"
      },
      "execution_count": 56,
      "outputs": [
        {
          "output_type": "stream",
          "name": "stdout",
          "text": [
            "Predictions saved to 'ensemble_predictions.csv'.\n",
            "       id  Depression\n",
            "0  140700           0\n",
            "1  140701           0\n",
            "2  140702           0\n",
            "3  140703           1\n",
            "4  140704           0\n"
          ]
        }
      ]
    },
    {
      "cell_type": "markdown",
      "source": [
        "###6.4 Ensemble with only XGBoost and LightGBM"
      ],
      "metadata": {
        "id": "BxUH2pJdxzWw"
      }
    },
    {
      "cell_type": "code",
      "source": [],
      "metadata": {
        "id": "AaeDgdu2xzBe"
      },
      "execution_count": null,
      "outputs": []
    },
    {
      "cell_type": "code",
      "source": [
        "# Initialize the models\n",
        "xgb_model = XGBClassifier(random_state=42)\n",
        "# rf_model = RandomForestClassifier(n_estimators=100, random_state=42)\n",
        "lgb_model = LGBMClassifier(random_state=42)"
      ],
      "metadata": {
        "id": "Uk0RBp5Wx5aD"
      },
      "execution_count": 57,
      "outputs": []
    },
    {
      "cell_type": "code",
      "source": [
        "from sklearn.ensemble import VotingClassifier\n",
        "\n",
        "# Create the ensemble model with soft voting\n",
        "ensemble_model = VotingClassifier(\n",
        "    estimators=[\n",
        "        ('xgb', xgb_model),\n",
        "        # ('rf', rf_model),\n",
        "        ('lgb', lgb_model)\n",
        "    ],\n",
        "    voting='soft'  # 'soft' for probabilities; 'hard' for majority class\n",
        ")\n",
        "\n",
        "# Train the ensemble model\n",
        "ensemble_model.fit(X_train, y_train)\n",
        "\n",
        "# Evaluate on the validation set\n",
        "y_val_pred = ensemble_model.predict(X_val)\n",
        "print(\"Ensemble Model Performance on Validation Set:\")\n",
        "print(classification_report(y_val, y_val_pred))"
      ],
      "metadata": {
        "colab": {
          "base_uri": "https://localhost:8080/"
        },
        "outputId": "5b60056a-0714-4951-b922-480aed219688",
        "id": "X9QGEjd6x5aD"
      },
      "execution_count": 58,
      "outputs": [
        {
          "output_type": "stream",
          "name": "stdout",
          "text": [
            "[LightGBM] [Warning] Found whitespace in feature_names, replace with underlines\n",
            "[LightGBM] [Info] Number of positive: 86690, number of negative: 71846\n",
            "[LightGBM] [Info] Auto-choosing row-wise multi-threading, the overhead of testing was 0.009274 seconds.\n",
            "You can set `force_row_wise=true` to remove the overhead.\n",
            "And if memory is not enough, you can set `force_col_wise=true`.\n",
            "[LightGBM] [Info] Total Bins 5213\n",
            "[LightGBM] [Info] Number of data points in the train set: 158536, number of used features: 28\n",
            "[LightGBM] [Info] [binary:BoostFromScore]: pavg=0.546816 -> initscore=0.187814\n",
            "[LightGBM] [Info] Start training from score 0.187814\n",
            "Ensemble Model Performance on Validation Set:\n",
            "              precision    recall  f1-score   support\n",
            "\n",
            "           0       0.98      0.99      0.99     17961\n",
            "           1       0.99      0.99      0.99     21673\n",
            "\n",
            "    accuracy                           0.99     39634\n",
            "   macro avg       0.99      0.99      0.99     39634\n",
            "weighted avg       0.99      0.99      0.99     39634\n",
            "\n"
          ]
        }
      ]
    },
    {
      "cell_type": "code",
      "source": [],
      "metadata": {
        "id": "0RZZSvGKyF0_"
      },
      "execution_count": null,
      "outputs": []
    },
    {
      "cell_type": "code",
      "source": [
        "# Preprocess test dataset (ensure same features as training set)\n",
        "test_ids = clean_test['id']  # Extract IDs for the final output\n",
        "X_test = clean_test.drop(columns=['id'])  # Drop 'id'\n",
        "\n",
        "# Predict the outcomes\n",
        "y_test_pred = ensemble_model.predict(X_test)\n",
        "\n",
        "# Create the output DataFrame\n",
        "output = pd.DataFrame({\n",
        "    'id': test_ids,\n",
        "    'Depression': y_test_pred\n",
        "})\n",
        "\n",
        "# Save predictions to a CSV file to drive\n",
        "output.to_csv('/content/drive/MyDrive/projects_jff/Forecasts/Kaggle_Depression/ensemble_predictions_sv_norf.csv', index=False)\n",
        "\n",
        "print(\"Predictions saved to 'ensemble_predictions.csv'.\")\n",
        "print(output.head())"
      ],
      "metadata": {
        "colab": {
          "base_uri": "https://localhost:8080/"
        },
        "outputId": "601c30a0-884d-4650-e7c7-8d97bb7a9e7e",
        "id": "HCXVsvScyGLg"
      },
      "execution_count": 59,
      "outputs": [
        {
          "output_type": "stream",
          "name": "stdout",
          "text": [
            "Predictions saved to 'ensemble_predictions.csv'.\n",
            "       id  Depression\n",
            "0  140700           0\n",
            "1  140701           0\n",
            "2  140702           0\n",
            "3  140703           1\n",
            "4  140704           0\n"
          ]
        }
      ]
    },
    {
      "cell_type": "code",
      "source": [],
      "metadata": {
        "id": "1qIPIBDoyKm-"
      },
      "execution_count": null,
      "outputs": []
    }
  ]
}